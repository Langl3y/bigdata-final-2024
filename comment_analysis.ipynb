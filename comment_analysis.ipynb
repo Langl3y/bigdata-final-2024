{
 "cells": [
  {
   "metadata": {
    "ExecuteTime": {
     "end_time": "2024-07-04T03:42:26.527224Z",
     "start_time": "2024-07-04T03:42:23.256326Z"
    }
   },
   "cell_type": "code",
   "source": [
    "# Install necessary dependencies\n",
    "\n",
    "!pip install -r requirements.txt"
   ],
   "id": "84f618678af68662",
   "outputs": [
    {
     "name": "stdout",
     "output_type": "stream",
     "text": [
      "Requirement already satisfied: nltk in c:\\users\\hieu\\miniconda3\\envs\\bigdata-final-sentiment-analysis\\lib\\site-packages (from -r requirements.txt (line 1)) (3.8.1)\n",
      "Requirement already satisfied: scikit-learn in c:\\users\\hieu\\miniconda3\\envs\\bigdata-final-sentiment-analysis\\lib\\site-packages (from -r requirements.txt (line 2)) (1.5.1)\n",
      "Requirement already satisfied: matplotlib in c:\\users\\hieu\\miniconda3\\envs\\bigdata-final-sentiment-analysis\\lib\\site-packages (from -r requirements.txt (line 3)) (3.9.0)\n",
      "Requirement already satisfied: seaborn in c:\\users\\hieu\\miniconda3\\envs\\bigdata-final-sentiment-analysis\\lib\\site-packages (from -r requirements.txt (line 4)) (0.13.2)\n",
      "Requirement already satisfied: kafka-python in c:\\users\\hieu\\miniconda3\\envs\\bigdata-final-sentiment-analysis\\lib\\site-packages (from -r requirements.txt (line 5)) (2.0.2)\n",
      "Requirement already satisfied: jupyter in c:\\users\\hieu\\miniconda3\\envs\\bigdata-final-sentiment-analysis\\lib\\site-packages (from -r requirements.txt (line 6)) (1.0.0)\n",
      "Requirement already satisfied: pandas in c:\\users\\hieu\\miniconda3\\envs\\bigdata-final-sentiment-analysis\\lib\\site-packages (from -r requirements.txt (line 7)) (2.2.2)\n",
      "Requirement already satisfied: click in c:\\users\\hieu\\miniconda3\\envs\\bigdata-final-sentiment-analysis\\lib\\site-packages (from nltk->-r requirements.txt (line 1)) (8.1.7)\n",
      "Requirement already satisfied: joblib in c:\\users\\hieu\\miniconda3\\envs\\bigdata-final-sentiment-analysis\\lib\\site-packages (from nltk->-r requirements.txt (line 1)) (1.4.2)\n",
      "Requirement already satisfied: regex>=2021.8.3 in c:\\users\\hieu\\miniconda3\\envs\\bigdata-final-sentiment-analysis\\lib\\site-packages (from nltk->-r requirements.txt (line 1)) (2024.5.15)\n",
      "Requirement already satisfied: tqdm in c:\\users\\hieu\\miniconda3\\envs\\bigdata-final-sentiment-analysis\\lib\\site-packages (from nltk->-r requirements.txt (line 1)) (4.66.4)\n",
      "Requirement already satisfied: numpy>=1.19.5 in c:\\users\\hieu\\miniconda3\\envs\\bigdata-final-sentiment-analysis\\lib\\site-packages (from scikit-learn->-r requirements.txt (line 2)) (2.0.0)\n",
      "Requirement already satisfied: scipy>=1.6.0 in c:\\users\\hieu\\miniconda3\\envs\\bigdata-final-sentiment-analysis\\lib\\site-packages (from scikit-learn->-r requirements.txt (line 2)) (1.14.0)\n",
      "Requirement already satisfied: threadpoolctl>=3.1.0 in c:\\users\\hieu\\miniconda3\\envs\\bigdata-final-sentiment-analysis\\lib\\site-packages (from scikit-learn->-r requirements.txt (line 2)) (3.5.0)\n",
      "Requirement already satisfied: contourpy>=1.0.1 in c:\\users\\hieu\\miniconda3\\envs\\bigdata-final-sentiment-analysis\\lib\\site-packages (from matplotlib->-r requirements.txt (line 3)) (1.2.1)\n",
      "Requirement already satisfied: cycler>=0.10 in c:\\users\\hieu\\miniconda3\\envs\\bigdata-final-sentiment-analysis\\lib\\site-packages (from matplotlib->-r requirements.txt (line 3)) (0.12.1)\n",
      "Requirement already satisfied: fonttools>=4.22.0 in c:\\users\\hieu\\miniconda3\\envs\\bigdata-final-sentiment-analysis\\lib\\site-packages (from matplotlib->-r requirements.txt (line 3)) (4.53.0)\n",
      "Requirement already satisfied: kiwisolver>=1.3.1 in c:\\users\\hieu\\miniconda3\\envs\\bigdata-final-sentiment-analysis\\lib\\site-packages (from matplotlib->-r requirements.txt (line 3)) (1.4.5)\n",
      "Requirement already satisfied: packaging>=20.0 in c:\\users\\hieu\\miniconda3\\envs\\bigdata-final-sentiment-analysis\\lib\\site-packages (from matplotlib->-r requirements.txt (line 3)) (23.2)\n",
      "Requirement already satisfied: pillow>=8 in c:\\users\\hieu\\miniconda3\\envs\\bigdata-final-sentiment-analysis\\lib\\site-packages (from matplotlib->-r requirements.txt (line 3)) (10.4.0)\n",
      "Requirement already satisfied: pyparsing>=2.3.1 in c:\\users\\hieu\\miniconda3\\envs\\bigdata-final-sentiment-analysis\\lib\\site-packages (from matplotlib->-r requirements.txt (line 3)) (3.1.2)\n",
      "Requirement already satisfied: python-dateutil>=2.7 in c:\\users\\hieu\\miniconda3\\envs\\bigdata-final-sentiment-analysis\\lib\\site-packages (from matplotlib->-r requirements.txt (line 3)) (2.9.0.post0)\n",
      "Requirement already satisfied: notebook in c:\\users\\hieu\\miniconda3\\envs\\bigdata-final-sentiment-analysis\\lib\\site-packages (from jupyter->-r requirements.txt (line 6)) (7.0.8)\n",
      "Requirement already satisfied: qtconsole in c:\\users\\hieu\\miniconda3\\envs\\bigdata-final-sentiment-analysis\\lib\\site-packages (from jupyter->-r requirements.txt (line 6)) (5.5.1)\n",
      "Requirement already satisfied: jupyter-console in c:\\users\\hieu\\miniconda3\\envs\\bigdata-final-sentiment-analysis\\lib\\site-packages (from jupyter->-r requirements.txt (line 6)) (6.6.3)\n",
      "Requirement already satisfied: nbconvert in c:\\users\\hieu\\miniconda3\\envs\\bigdata-final-sentiment-analysis\\lib\\site-packages (from jupyter->-r requirements.txt (line 6)) (7.10.0)\n",
      "Requirement already satisfied: ipykernel in c:\\users\\hieu\\miniconda3\\envs\\bigdata-final-sentiment-analysis\\lib\\site-packages (from jupyter->-r requirements.txt (line 6)) (6.28.0)\n",
      "Requirement already satisfied: ipywidgets in c:\\users\\hieu\\miniconda3\\envs\\bigdata-final-sentiment-analysis\\lib\\site-packages (from jupyter->-r requirements.txt (line 6)) (8.1.2)\n",
      "Requirement already satisfied: pytz>=2020.1 in c:\\users\\hieu\\miniconda3\\envs\\bigdata-final-sentiment-analysis\\lib\\site-packages (from pandas->-r requirements.txt (line 7)) (2024.1)\n",
      "Requirement already satisfied: tzdata>=2022.7 in c:\\users\\hieu\\miniconda3\\envs\\bigdata-final-sentiment-analysis\\lib\\site-packages (from pandas->-r requirements.txt (line 7)) (2024.1)\n",
      "Requirement already satisfied: six>=1.5 in c:\\users\\hieu\\miniconda3\\envs\\bigdata-final-sentiment-analysis\\lib\\site-packages (from python-dateutil>=2.7->matplotlib->-r requirements.txt (line 3)) (1.16.0)\n",
      "Requirement already satisfied: colorama in c:\\users\\hieu\\miniconda3\\envs\\bigdata-final-sentiment-analysis\\lib\\site-packages (from click->nltk->-r requirements.txt (line 1)) (0.4.6)\n",
      "Requirement already satisfied: comm>=0.1.1 in c:\\users\\hieu\\miniconda3\\envs\\bigdata-final-sentiment-analysis\\lib\\site-packages (from ipykernel->jupyter->-r requirements.txt (line 6)) (0.2.1)\n",
      "Requirement already satisfied: debugpy>=1.6.5 in c:\\users\\hieu\\miniconda3\\envs\\bigdata-final-sentiment-analysis\\lib\\site-packages (from ipykernel->jupyter->-r requirements.txt (line 6)) (1.6.7)\n",
      "Requirement already satisfied: ipython>=7.23.1 in c:\\users\\hieu\\miniconda3\\envs\\bigdata-final-sentiment-analysis\\lib\\site-packages (from ipykernel->jupyter->-r requirements.txt (line 6)) (8.25.0)\n",
      "Requirement already satisfied: jupyter-client>=6.1.12 in c:\\users\\hieu\\miniconda3\\envs\\bigdata-final-sentiment-analysis\\lib\\site-packages (from ipykernel->jupyter->-r requirements.txt (line 6)) (8.6.0)\n",
      "Requirement already satisfied: jupyter-core!=5.0.*,>=4.12 in c:\\users\\hieu\\miniconda3\\envs\\bigdata-final-sentiment-analysis\\lib\\site-packages (from ipykernel->jupyter->-r requirements.txt (line 6)) (5.7.2)\n",
      "Requirement already satisfied: matplotlib-inline>=0.1 in c:\\users\\hieu\\miniconda3\\envs\\bigdata-final-sentiment-analysis\\lib\\site-packages (from ipykernel->jupyter->-r requirements.txt (line 6)) (0.1.6)\n",
      "Requirement already satisfied: nest-asyncio in c:\\users\\hieu\\miniconda3\\envs\\bigdata-final-sentiment-analysis\\lib\\site-packages (from ipykernel->jupyter->-r requirements.txt (line 6)) (1.6.0)\n",
      "Requirement already satisfied: psutil in c:\\users\\hieu\\miniconda3\\envs\\bigdata-final-sentiment-analysis\\lib\\site-packages (from ipykernel->jupyter->-r requirements.txt (line 6)) (5.9.0)\n",
      "Requirement already satisfied: pyzmq>=24 in c:\\users\\hieu\\miniconda3\\envs\\bigdata-final-sentiment-analysis\\lib\\site-packages (from ipykernel->jupyter->-r requirements.txt (line 6)) (25.1.2)\n",
      "Requirement already satisfied: tornado>=6.1 in c:\\users\\hieu\\miniconda3\\envs\\bigdata-final-sentiment-analysis\\lib\\site-packages (from ipykernel->jupyter->-r requirements.txt (line 6)) (6.4.1)\n",
      "Requirement already satisfied: traitlets>=5.4.0 in c:\\users\\hieu\\miniconda3\\envs\\bigdata-final-sentiment-analysis\\lib\\site-packages (from ipykernel->jupyter->-r requirements.txt (line 6)) (5.14.3)\n",
      "Requirement already satisfied: widgetsnbextension~=4.0.10 in c:\\users\\hieu\\miniconda3\\envs\\bigdata-final-sentiment-analysis\\lib\\site-packages (from ipywidgets->jupyter->-r requirements.txt (line 6)) (4.0.10)\n",
      "Requirement already satisfied: jupyterlab-widgets~=3.0.10 in c:\\users\\hieu\\miniconda3\\envs\\bigdata-final-sentiment-analysis\\lib\\site-packages (from ipywidgets->jupyter->-r requirements.txt (line 6)) (3.0.10)\n",
      "Requirement already satisfied: prompt-toolkit>=3.0.30 in c:\\users\\hieu\\miniconda3\\envs\\bigdata-final-sentiment-analysis\\lib\\site-packages (from jupyter-console->jupyter->-r requirements.txt (line 6)) (3.0.43)\n",
      "Requirement already satisfied: pygments in c:\\users\\hieu\\miniconda3\\envs\\bigdata-final-sentiment-analysis\\lib\\site-packages (from jupyter-console->jupyter->-r requirements.txt (line 6)) (2.15.1)\n",
      "Requirement already satisfied: beautifulsoup4 in c:\\users\\hieu\\miniconda3\\envs\\bigdata-final-sentiment-analysis\\lib\\site-packages (from nbconvert->jupyter->-r requirements.txt (line 6)) (4.12.3)\n",
      "Requirement already satisfied: bleach!=5.0.0 in c:\\users\\hieu\\miniconda3\\envs\\bigdata-final-sentiment-analysis\\lib\\site-packages (from nbconvert->jupyter->-r requirements.txt (line 6)) (4.1.0)\n",
      "Requirement already satisfied: defusedxml in c:\\users\\hieu\\miniconda3\\envs\\bigdata-final-sentiment-analysis\\lib\\site-packages (from nbconvert->jupyter->-r requirements.txt (line 6)) (0.7.1)\n",
      "Requirement already satisfied: jinja2>=3.0 in c:\\users\\hieu\\miniconda3\\envs\\bigdata-final-sentiment-analysis\\lib\\site-packages (from nbconvert->jupyter->-r requirements.txt (line 6)) (3.1.4)\n",
      "Requirement already satisfied: jupyterlab-pygments in c:\\users\\hieu\\miniconda3\\envs\\bigdata-final-sentiment-analysis\\lib\\site-packages (from nbconvert->jupyter->-r requirements.txt (line 6)) (0.1.2)\n",
      "Requirement already satisfied: markupsafe>=2.0 in c:\\users\\hieu\\miniconda3\\envs\\bigdata-final-sentiment-analysis\\lib\\site-packages (from nbconvert->jupyter->-r requirements.txt (line 6)) (2.1.3)\n",
      "Requirement already satisfied: mistune<4,>=2.0.3 in c:\\users\\hieu\\miniconda3\\envs\\bigdata-final-sentiment-analysis\\lib\\site-packages (from nbconvert->jupyter->-r requirements.txt (line 6)) (2.0.4)\n",
      "Requirement already satisfied: nbclient>=0.5.0 in c:\\users\\hieu\\miniconda3\\envs\\bigdata-final-sentiment-analysis\\lib\\site-packages (from nbconvert->jupyter->-r requirements.txt (line 6)) (0.8.0)\n",
      "Requirement already satisfied: nbformat>=5.7 in c:\\users\\hieu\\miniconda3\\envs\\bigdata-final-sentiment-analysis\\lib\\site-packages (from nbconvert->jupyter->-r requirements.txt (line 6)) (5.9.2)\n",
      "Requirement already satisfied: pandocfilters>=1.4.1 in c:\\users\\hieu\\miniconda3\\envs\\bigdata-final-sentiment-analysis\\lib\\site-packages (from nbconvert->jupyter->-r requirements.txt (line 6)) (1.5.0)\n",
      "Requirement already satisfied: tinycss2 in c:\\users\\hieu\\miniconda3\\envs\\bigdata-final-sentiment-analysis\\lib\\site-packages (from nbconvert->jupyter->-r requirements.txt (line 6)) (1.2.1)\n",
      "Requirement already satisfied: jupyter-server<3,>=2.4.0 in c:\\users\\hieu\\miniconda3\\envs\\bigdata-final-sentiment-analysis\\lib\\site-packages (from notebook->jupyter->-r requirements.txt (line 6)) (2.14.1)\n",
      "Requirement already satisfied: jupyterlab-server<3,>=2.22.1 in c:\\users\\hieu\\miniconda3\\envs\\bigdata-final-sentiment-analysis\\lib\\site-packages (from notebook->jupyter->-r requirements.txt (line 6)) (2.25.1)\n",
      "Requirement already satisfied: jupyterlab<4.1,>=4.0.2 in c:\\users\\hieu\\miniconda3\\envs\\bigdata-final-sentiment-analysis\\lib\\site-packages (from notebook->jupyter->-r requirements.txt (line 6)) (4.0.11)\n",
      "Requirement already satisfied: notebook-shim<0.3,>=0.2 in c:\\users\\hieu\\miniconda3\\envs\\bigdata-final-sentiment-analysis\\lib\\site-packages (from notebook->jupyter->-r requirements.txt (line 6)) (0.2.3)\n",
      "Requirement already satisfied: qtpy>=2.4.0 in c:\\users\\hieu\\miniconda3\\envs\\bigdata-final-sentiment-analysis\\lib\\site-packages (from qtconsole->jupyter->-r requirements.txt (line 6)) (2.4.1)\n",
      "Requirement already satisfied: webencodings in c:\\users\\hieu\\miniconda3\\envs\\bigdata-final-sentiment-analysis\\lib\\site-packages (from bleach!=5.0.0->nbconvert->jupyter->-r requirements.txt (line 6)) (0.5.1)\n",
      "Requirement already satisfied: decorator in c:\\users\\hieu\\miniconda3\\envs\\bigdata-final-sentiment-analysis\\lib\\site-packages (from ipython>=7.23.1->ipykernel->jupyter->-r requirements.txt (line 6)) (5.1.1)\n",
      "Requirement already satisfied: jedi>=0.16 in c:\\users\\hieu\\miniconda3\\envs\\bigdata-final-sentiment-analysis\\lib\\site-packages (from ipython>=7.23.1->ipykernel->jupyter->-r requirements.txt (line 6)) (0.18.1)\n",
      "Requirement already satisfied: stack-data in c:\\users\\hieu\\miniconda3\\envs\\bigdata-final-sentiment-analysis\\lib\\site-packages (from ipython>=7.23.1->ipykernel->jupyter->-r requirements.txt (line 6)) (0.2.0)\n",
      "Requirement already satisfied: exceptiongroup in c:\\users\\hieu\\miniconda3\\envs\\bigdata-final-sentiment-analysis\\lib\\site-packages (from ipython>=7.23.1->ipykernel->jupyter->-r requirements.txt (line 6)) (1.2.0)\n",
      "Requirement already satisfied: typing-extensions>=4.6 in c:\\users\\hieu\\miniconda3\\envs\\bigdata-final-sentiment-analysis\\lib\\site-packages (from ipython>=7.23.1->ipykernel->jupyter->-r requirements.txt (line 6)) (4.11.0)\n",
      "Requirement already satisfied: platformdirs>=2.5 in c:\\users\\hieu\\miniconda3\\envs\\bigdata-final-sentiment-analysis\\lib\\site-packages (from jupyter-core!=5.0.*,>=4.12->ipykernel->jupyter->-r requirements.txt (line 6)) (3.10.0)\n",
      "Requirement already satisfied: pywin32>=300 in c:\\users\\hieu\\miniconda3\\envs\\bigdata-final-sentiment-analysis\\lib\\site-packages (from jupyter-core!=5.0.*,>=4.12->ipykernel->jupyter->-r requirements.txt (line 6)) (305.1)\n",
      "Requirement already satisfied: anyio>=3.1.0 in c:\\users\\hieu\\miniconda3\\envs\\bigdata-final-sentiment-analysis\\lib\\site-packages (from jupyter-server<3,>=2.4.0->notebook->jupyter->-r requirements.txt (line 6)) (4.2.0)\n",
      "Requirement already satisfied: argon2-cffi>=21.1 in c:\\users\\hieu\\miniconda3\\envs\\bigdata-final-sentiment-analysis\\lib\\site-packages (from jupyter-server<3,>=2.4.0->notebook->jupyter->-r requirements.txt (line 6)) (21.3.0)\n",
      "Requirement already satisfied: jupyter-events>=0.9.0 in c:\\users\\hieu\\miniconda3\\envs\\bigdata-final-sentiment-analysis\\lib\\site-packages (from jupyter-server<3,>=2.4.0->notebook->jupyter->-r requirements.txt (line 6)) (0.10.0)\n",
      "Requirement already satisfied: jupyter-server-terminals>=0.4.4 in c:\\users\\hieu\\miniconda3\\envs\\bigdata-final-sentiment-analysis\\lib\\site-packages (from jupyter-server<3,>=2.4.0->notebook->jupyter->-r requirements.txt (line 6)) (0.4.4)\n",
      "Requirement already satisfied: overrides>=5.0 in c:\\users\\hieu\\miniconda3\\envs\\bigdata-final-sentiment-analysis\\lib\\site-packages (from jupyter-server<3,>=2.4.0->notebook->jupyter->-r requirements.txt (line 6)) (7.4.0)\n",
      "Requirement already satisfied: prometheus-client>=0.9 in c:\\users\\hieu\\miniconda3\\envs\\bigdata-final-sentiment-analysis\\lib\\site-packages (from jupyter-server<3,>=2.4.0->notebook->jupyter->-r requirements.txt (line 6)) (0.14.1)\n",
      "Requirement already satisfied: pywinpty>=2.0.1 in c:\\users\\hieu\\miniconda3\\envs\\bigdata-final-sentiment-analysis\\lib\\site-packages (from jupyter-server<3,>=2.4.0->notebook->jupyter->-r requirements.txt (line 6)) (2.0.10)\n",
      "Requirement already satisfied: send2trash>=1.8.2 in c:\\users\\hieu\\miniconda3\\envs\\bigdata-final-sentiment-analysis\\lib\\site-packages (from jupyter-server<3,>=2.4.0->notebook->jupyter->-r requirements.txt (line 6)) (1.8.2)\n",
      "Requirement already satisfied: terminado>=0.8.3 in c:\\users\\hieu\\miniconda3\\envs\\bigdata-final-sentiment-analysis\\lib\\site-packages (from jupyter-server<3,>=2.4.0->notebook->jupyter->-r requirements.txt (line 6)) (0.17.1)\n",
      "Requirement already satisfied: websocket-client>=1.7 in c:\\users\\hieu\\miniconda3\\envs\\bigdata-final-sentiment-analysis\\lib\\site-packages (from jupyter-server<3,>=2.4.0->notebook->jupyter->-r requirements.txt (line 6)) (1.8.0)\n",
      "Requirement already satisfied: async-lru>=1.0.0 in c:\\users\\hieu\\miniconda3\\envs\\bigdata-final-sentiment-analysis\\lib\\site-packages (from jupyterlab<4.1,>=4.0.2->notebook->jupyter->-r requirements.txt (line 6)) (2.0.4)\n",
      "Requirement already satisfied: jupyter-lsp>=2.0.0 in c:\\users\\hieu\\miniconda3\\envs\\bigdata-final-sentiment-analysis\\lib\\site-packages (from jupyterlab<4.1,>=4.0.2->notebook->jupyter->-r requirements.txt (line 6)) (2.2.0)\n",
      "Requirement already satisfied: tomli in c:\\users\\hieu\\miniconda3\\envs\\bigdata-final-sentiment-analysis\\lib\\site-packages (from jupyterlab<4.1,>=4.0.2->notebook->jupyter->-r requirements.txt (line 6)) (2.0.1)\n",
      "Requirement already satisfied: babel>=2.10 in c:\\users\\hieu\\miniconda3\\envs\\bigdata-final-sentiment-analysis\\lib\\site-packages (from jupyterlab-server<3,>=2.22.1->notebook->jupyter->-r requirements.txt (line 6)) (2.11.0)\n",
      "Requirement already satisfied: json5>=0.9.0 in c:\\users\\hieu\\miniconda3\\envs\\bigdata-final-sentiment-analysis\\lib\\site-packages (from jupyterlab-server<3,>=2.22.1->notebook->jupyter->-r requirements.txt (line 6)) (0.9.6)\n",
      "Requirement already satisfied: jsonschema>=4.18.0 in c:\\users\\hieu\\miniconda3\\envs\\bigdata-final-sentiment-analysis\\lib\\site-packages (from jupyterlab-server<3,>=2.22.1->notebook->jupyter->-r requirements.txt (line 6)) (4.19.2)\n",
      "Requirement already satisfied: requests>=2.31 in c:\\users\\hieu\\miniconda3\\envs\\bigdata-final-sentiment-analysis\\lib\\site-packages (from jupyterlab-server<3,>=2.22.1->notebook->jupyter->-r requirements.txt (line 6)) (2.32.2)\n",
      "Requirement already satisfied: fastjsonschema in c:\\users\\hieu\\miniconda3\\envs\\bigdata-final-sentiment-analysis\\lib\\site-packages (from nbformat>=5.7->nbconvert->jupyter->-r requirements.txt (line 6)) (2.16.2)\n",
      "Requirement already satisfied: wcwidth in c:\\users\\hieu\\miniconda3\\envs\\bigdata-final-sentiment-analysis\\lib\\site-packages (from prompt-toolkit>=3.0.30->jupyter-console->jupyter->-r requirements.txt (line 6)) (0.2.5)\n",
      "Requirement already satisfied: soupsieve>1.2 in c:\\users\\hieu\\miniconda3\\envs\\bigdata-final-sentiment-analysis\\lib\\site-packages (from beautifulsoup4->nbconvert->jupyter->-r requirements.txt (line 6)) (2.5)\n",
      "Requirement already satisfied: idna>=2.8 in c:\\users\\hieu\\miniconda3\\envs\\bigdata-final-sentiment-analysis\\lib\\site-packages (from anyio>=3.1.0->jupyter-server<3,>=2.4.0->notebook->jupyter->-r requirements.txt (line 6)) (3.7)\n",
      "Requirement already satisfied: sniffio>=1.1 in c:\\users\\hieu\\miniconda3\\envs\\bigdata-final-sentiment-analysis\\lib\\site-packages (from anyio>=3.1.0->jupyter-server<3,>=2.4.0->notebook->jupyter->-r requirements.txt (line 6)) (1.3.0)\n",
      "Requirement already satisfied: argon2-cffi-bindings in c:\\users\\hieu\\miniconda3\\envs\\bigdata-final-sentiment-analysis\\lib\\site-packages (from argon2-cffi>=21.1->jupyter-server<3,>=2.4.0->notebook->jupyter->-r requirements.txt (line 6)) (21.2.0)\n",
      "Requirement already satisfied: parso<0.9.0,>=0.8.0 in c:\\users\\hieu\\miniconda3\\envs\\bigdata-final-sentiment-analysis\\lib\\site-packages (from jedi>=0.16->ipython>=7.23.1->ipykernel->jupyter->-r requirements.txt (line 6)) (0.8.3)\n",
      "Requirement already satisfied: attrs>=22.2.0 in c:\\users\\hieu\\miniconda3\\envs\\bigdata-final-sentiment-analysis\\lib\\site-packages (from jsonschema>=4.18.0->jupyterlab-server<3,>=2.22.1->notebook->jupyter->-r requirements.txt (line 6)) (23.1.0)\n",
      "Requirement already satisfied: jsonschema-specifications>=2023.03.6 in c:\\users\\hieu\\miniconda3\\envs\\bigdata-final-sentiment-analysis\\lib\\site-packages (from jsonschema>=4.18.0->jupyterlab-server<3,>=2.22.1->notebook->jupyter->-r requirements.txt (line 6)) (2023.7.1)\n",
      "Requirement already satisfied: referencing>=0.28.4 in c:\\users\\hieu\\miniconda3\\envs\\bigdata-final-sentiment-analysis\\lib\\site-packages (from jsonschema>=4.18.0->jupyterlab-server<3,>=2.22.1->notebook->jupyter->-r requirements.txt (line 6)) (0.30.2)\n",
      "Requirement already satisfied: rpds-py>=0.7.1 in c:\\users\\hieu\\miniconda3\\envs\\bigdata-final-sentiment-analysis\\lib\\site-packages (from jsonschema>=4.18.0->jupyterlab-server<3,>=2.22.1->notebook->jupyter->-r requirements.txt (line 6)) (0.10.6)\n",
      "Requirement already satisfied: python-json-logger>=2.0.4 in c:\\users\\hieu\\miniconda3\\envs\\bigdata-final-sentiment-analysis\\lib\\site-packages (from jupyter-events>=0.9.0->jupyter-server<3,>=2.4.0->notebook->jupyter->-r requirements.txt (line 6)) (2.0.7)\n",
      "Requirement already satisfied: pyyaml>=5.3 in c:\\users\\hieu\\miniconda3\\envs\\bigdata-final-sentiment-analysis\\lib\\site-packages (from jupyter-events>=0.9.0->jupyter-server<3,>=2.4.0->notebook->jupyter->-r requirements.txt (line 6)) (6.0.1)\n",
      "Requirement already satisfied: rfc3339-validator in c:\\users\\hieu\\miniconda3\\envs\\bigdata-final-sentiment-analysis\\lib\\site-packages (from jupyter-events>=0.9.0->jupyter-server<3,>=2.4.0->notebook->jupyter->-r requirements.txt (line 6)) (0.1.4)\n",
      "Requirement already satisfied: rfc3986-validator>=0.1.1 in c:\\users\\hieu\\miniconda3\\envs\\bigdata-final-sentiment-analysis\\lib\\site-packages (from jupyter-events>=0.9.0->jupyter-server<3,>=2.4.0->notebook->jupyter->-r requirements.txt (line 6)) (0.1.1)\n",
      "Requirement already satisfied: charset-normalizer<4,>=2 in c:\\users\\hieu\\miniconda3\\envs\\bigdata-final-sentiment-analysis\\lib\\site-packages (from requests>=2.31->jupyterlab-server<3,>=2.22.1->notebook->jupyter->-r requirements.txt (line 6)) (2.0.4)\n",
      "Requirement already satisfied: urllib3<3,>=1.21.1 in c:\\users\\hieu\\miniconda3\\envs\\bigdata-final-sentiment-analysis\\lib\\site-packages (from requests>=2.31->jupyterlab-server<3,>=2.22.1->notebook->jupyter->-r requirements.txt (line 6)) (2.2.2)\n",
      "Requirement already satisfied: certifi>=2017.4.17 in c:\\users\\hieu\\miniconda3\\envs\\bigdata-final-sentiment-analysis\\lib\\site-packages (from requests>=2.31->jupyterlab-server<3,>=2.22.1->notebook->jupyter->-r requirements.txt (line 6)) (2024.6.2)\n",
      "Requirement already satisfied: executing in c:\\users\\hieu\\miniconda3\\envs\\bigdata-final-sentiment-analysis\\lib\\site-packages (from stack-data->ipython>=7.23.1->ipykernel->jupyter->-r requirements.txt (line 6)) (0.8.3)\n",
      "Requirement already satisfied: asttokens in c:\\users\\hieu\\miniconda3\\envs\\bigdata-final-sentiment-analysis\\lib\\site-packages (from stack-data->ipython>=7.23.1->ipykernel->jupyter->-r requirements.txt (line 6)) (2.0.5)\n",
      "Requirement already satisfied: pure-eval in c:\\users\\hieu\\miniconda3\\envs\\bigdata-final-sentiment-analysis\\lib\\site-packages (from stack-data->ipython>=7.23.1->ipykernel->jupyter->-r requirements.txt (line 6)) (0.2.2)\n",
      "Requirement already satisfied: fqdn in c:\\users\\hieu\\miniconda3\\envs\\bigdata-final-sentiment-analysis\\lib\\site-packages (from jsonschema[format-nongpl]>=4.18.0->jupyter-events>=0.9.0->jupyter-server<3,>=2.4.0->notebook->jupyter->-r requirements.txt (line 6)) (1.5.1)\n",
      "Requirement already satisfied: isoduration in c:\\users\\hieu\\miniconda3\\envs\\bigdata-final-sentiment-analysis\\lib\\site-packages (from jsonschema[format-nongpl]>=4.18.0->jupyter-events>=0.9.0->jupyter-server<3,>=2.4.0->notebook->jupyter->-r requirements.txt (line 6)) (20.11.0)\n",
      "Requirement already satisfied: jsonpointer>1.13 in c:\\users\\hieu\\miniconda3\\envs\\bigdata-final-sentiment-analysis\\lib\\site-packages (from jsonschema[format-nongpl]>=4.18.0->jupyter-events>=0.9.0->jupyter-server<3,>=2.4.0->notebook->jupyter->-r requirements.txt (line 6)) (3.0.0)\n",
      "Requirement already satisfied: uri-template in c:\\users\\hieu\\miniconda3\\envs\\bigdata-final-sentiment-analysis\\lib\\site-packages (from jsonschema[format-nongpl]>=4.18.0->jupyter-events>=0.9.0->jupyter-server<3,>=2.4.0->notebook->jupyter->-r requirements.txt (line 6)) (1.3.0)\n",
      "Requirement already satisfied: webcolors>=1.11 in c:\\users\\hieu\\miniconda3\\envs\\bigdata-final-sentiment-analysis\\lib\\site-packages (from jsonschema[format-nongpl]>=4.18.0->jupyter-events>=0.9.0->jupyter-server<3,>=2.4.0->notebook->jupyter->-r requirements.txt (line 6)) (24.6.0)\n",
      "Requirement already satisfied: cffi>=1.0.1 in c:\\users\\hieu\\miniconda3\\envs\\bigdata-final-sentiment-analysis\\lib\\site-packages (from argon2-cffi-bindings->argon2-cffi>=21.1->jupyter-server<3,>=2.4.0->notebook->jupyter->-r requirements.txt (line 6)) (1.16.0)\n",
      "Requirement already satisfied: pycparser in c:\\users\\hieu\\miniconda3\\envs\\bigdata-final-sentiment-analysis\\lib\\site-packages (from cffi>=1.0.1->argon2-cffi-bindings->argon2-cffi>=21.1->jupyter-server<3,>=2.4.0->notebook->jupyter->-r requirements.txt (line 6)) (2.21)\n",
      "Requirement already satisfied: arrow>=0.15.0 in c:\\users\\hieu\\miniconda3\\envs\\bigdata-final-sentiment-analysis\\lib\\site-packages (from isoduration->jsonschema[format-nongpl]>=4.18.0->jupyter-events>=0.9.0->jupyter-server<3,>=2.4.0->notebook->jupyter->-r requirements.txt (line 6)) (1.3.0)\n",
      "Requirement already satisfied: types-python-dateutil>=2.8.10 in c:\\users\\hieu\\miniconda3\\envs\\bigdata-final-sentiment-analysis\\lib\\site-packages (from arrow>=0.15.0->isoduration->jsonschema[format-nongpl]>=4.18.0->jupyter-events>=0.9.0->jupyter-server<3,>=2.4.0->notebook->jupyter->-r requirements.txt (line 6)) (2.9.0.20240316)\n"
     ]
    }
   ],
   "execution_count": 1
  },
  {
   "cell_type": "code",
   "id": "initial_id",
   "metadata": {
    "collapsed": true,
    "ExecuteTime": {
     "end_time": "2024-07-04T07:02:54.052070Z",
     "start_time": "2024-07-04T07:02:53.072076Z"
    }
   },
   "source": [
    "# Import necessary libraries\n",
    "import pandas as pd\n",
    "import nltk\n",
    "from nltk.classify import NaiveBayesClassifier\n",
    "from nltk.sentiment import SentimentAnalyzer\n",
    "from nltk.sentiment.util import *\n",
    "from sklearn.model_selection import train_test_split\n",
    "import matplotlib.pyplot as plt\n",
    "import seaborn as sns\n",
    "from kafka import KafkaProducer, KafkaConsumer\n",
    "import json\n",
    "import time\n",
    "import re\n",
    "from nltk.tokenize import word_tokenize"
   ],
   "outputs": [],
   "execution_count": 1
  },
  {
   "metadata": {
    "ExecuteTime": {
     "end_time": "2024-07-04T07:02:55.965469Z",
     "start_time": "2024-07-04T07:02:54.053056Z"
    }
   },
   "cell_type": "code",
   "source": [
    "# Download necessary NLTK data if not already\n",
    "nltk.download('vader_lexicon')\n",
    "nltk.download('punkt')"
   ],
   "id": "45a1cf37fc173add",
   "outputs": [
    {
     "name": "stderr",
     "output_type": "stream",
     "text": [
      "[nltk_data] Downloading package vader_lexicon to\n",
      "[nltk_data]     C:\\Users\\Hieu\\AppData\\Roaming\\nltk_data...\n",
      "[nltk_data]   Package vader_lexicon is already up-to-date!\n",
      "[nltk_data] Downloading package punkt to\n",
      "[nltk_data]     C:\\Users\\Hieu\\AppData\\Roaming\\nltk_data...\n",
      "[nltk_data]   Package punkt is already up-to-date!\n"
     ]
    },
    {
     "data": {
      "text/plain": [
       "True"
      ]
     },
     "execution_count": 2,
     "metadata": {},
     "output_type": "execute_result"
    }
   ],
   "execution_count": 2
  },
  {
   "metadata": {},
   "cell_type": "markdown",
   "source": "# DATA COLLECTION AND PREPROCESSING",
   "id": "bbd836edc440343b"
  },
  {
   "metadata": {
    "ExecuteTime": {
     "end_time": "2024-07-04T07:02:55.980469Z",
     "start_time": "2024-07-04T07:02:55.968467Z"
    }
   },
   "cell_type": "code",
   "source": [
    "# Preprocess text function\n",
    "\n",
    "def preprocess_text(text):\n",
    "    # Remove URLs using regex\n",
    "    text = re.sub(r'http\\S+', '', text)\n",
    "    # Tokenize text\n",
    "    tokens = word_tokenize(text)\n",
    "    return tokens"
   ],
   "id": "7c8ed5103b1816c5",
   "outputs": [],
   "execution_count": 3
  },
  {
   "metadata": {
    "ExecuteTime": {
     "end_time": "2024-07-04T07:02:58.142994Z",
     "start_time": "2024-07-04T07:02:57.862972Z"
    }
   },
   "cell_type": "code",
   "source": [
    "# Load Facebook comments csv dataset\n",
    "df = pd.read_csv('fb_sentiment.csv')\n",
    "df.head()\n",
    "data = [(row['FBPost'], row['Label']) for _, row in df.iterrows()]\n",
    "\n",
    "# Preprocess the data\n",
    "processed_data = [(preprocess_text(text), label) for text, label in data]\n",
    "\n",
    "# Split data into training and testing sets\n",
    "train_data, test_data = train_test_split(processed_data, test_size=0.2, random_state=42)"
   ],
   "id": "ad12b5986e05881e",
   "outputs": [],
   "execution_count": 4
  },
  {
   "metadata": {
    "ExecuteTime": {
     "end_time": "2024-07-04T07:02:59.938628Z",
     "start_time": "2024-07-04T07:02:59.539559Z"
    }
   },
   "cell_type": "code",
   "source": [
    "# Explore data distribution\n",
    "def plot_class_distribution(docs, title):\n",
    "    labels = [label for (_, label) in docs]\n",
    "    sns.countplot(labels)\n",
    "    plt.title(title)\n",
    "    plt.xlabel('Class')\n",
    "    plt.ylabel('Frequency')\n",
    "    plt.show()\n",
    "    \n",
    "plot_class_distribution(train_data, 'Training Data Class Distribution')\n",
    "plot_class_distribution(test_data, 'Testing Data Class Distribution')"
   ],
   "id": "643d3102dd62ab52",
   "outputs": [
    {
     "data": {
      "text/plain": [
       "<Figure size 640x480 with 1 Axes>"
      ],
      "image/png": "[encoded data removed]"
     },
     "metadata": {},
     "output_type": "display_data"
    },
    {
     "data": {
      "text/plain": [
       "<Figure size 640x480 with 1 Axes>"
      ],
      "image/png": "[encoded data removed]"
     },
     "metadata": {},
     "output_type": "display_data"
    }
   ],
   "execution_count": 5
  },
  {
   "metadata": {
    "ExecuteTime": {
     "end_time": "2024-07-04T07:14:28.440768Z",
     "start_time": "2024-07-04T07:14:28.428770Z"
    }
   },
   "cell_type": "code",
   "source": [
    "# Initialize SentimentAnalyzer\n",
    "sentiment_analyzer = SentimentAnalyzer()"
   ],
   "id": "171f937fa4541ac9",
   "outputs": [],
   "execution_count": 6
  },
  {
   "metadata": {
    "ExecuteTime": {
     "end_time": "2024-07-04T07:14:29.160203Z",
     "start_time": "2024-07-04T07:14:29.111200Z"
    }
   },
   "cell_type": "code",
   "source": [
    "# Extract words with negation handling\n",
    "all_words_neg = sentiment_analyzer.all_words([mark_negation(words) for words, label in train_data])\n",
    "unigram_feats = sentiment_analyzer.unigram_word_feats(all_words_neg, min_freq=4)\n",
    "sentiment_analyzer.add_feat_extractor(extract_unigram_feats, unigrams=unigram_feats)"
   ],
   "id": "61923cc46ac7f317",
   "outputs": [],
   "execution_count": 7
  },
  {
   "metadata": {
    "ExecuteTime": {
     "end_time": "2024-07-04T07:14:30.128181Z",
     "start_time": "2024-07-04T07:14:30.115182Z"
    }
   },
   "cell_type": "code",
   "source": [
    "# Apply features to obtain a feature-value representation of datasets\n",
    "training_set = sentiment_analyzer.apply_features(train_data)\n",
    "test_set = sentiment_analyzer.apply_features(test_data)"
   ],
   "id": "2af78672eaadcf37",
   "outputs": [],
   "execution_count": 8
  },
  {
   "metadata": {
    "ExecuteTime": {
     "end_time": "2024-07-04T07:14:31.733173Z",
     "start_time": "2024-07-04T07:14:31.059316Z"
    }
   },
   "cell_type": "code",
   "source": [
    "# Train Naive Bayes classifier\n",
    "trainer = NaiveBayesClassifier.train\n",
    "classifier = sentiment_analyzer.train(trainer, training_set)"
   ],
   "id": "24a9ad49ed817b42",
   "outputs": [
    {
     "name": "stdout",
     "output_type": "stream",
     "text": [
      "Training classifier\n"
     ]
    }
   ],
   "execution_count": 9
  },
  {
   "metadata": {},
   "cell_type": "markdown",
   "source": "# Kafka - Producer for Sending Comments",
   "id": "80a6fb1a370b5a87"
  },
  {
   "metadata": {
    "ExecuteTime": {
     "end_time": "2024-07-04T07:14:32.915313Z",
     "start_time": "2024-07-04T07:14:32.905313Z"
    }
   },
   "cell_type": "code",
   "source": [
    "def create_producer():\n",
    "    return KafkaProducer(\n",
    "        bootstrap_servers='localhost:9092',\n",
    "        value_serializer=lambda v: json.dumps(v).encode('utf-8')\n",
    "    )\n",
    "\n",
    "def send_comment(producer, topic, comment):\n",
    "    producer.send(topic, {'comment': comment})\n",
    "    producer.flush()"
   ],
   "id": "bdcd933f50d5ca83",
   "outputs": [],
   "execution_count": 10
  },
  {
   "metadata": {},
   "cell_type": "markdown",
   "source": "# Kafka - Consumer for Processing Comments",
   "id": "d9e0670191c49d1"
  },
  {
   "metadata": {
    "ExecuteTime": {
     "end_time": "2024-07-04T07:14:33.907133Z",
     "start_time": "2024-07-04T07:14:33.894105Z"
    }
   },
   "cell_type": "code",
   "source": [
    "def create_consumer():\n",
    "    return KafkaConsumer(\n",
    "        'comments',\n",
    "        bootstrap_servers='localhost:9092',\n",
    "        value_deserializer=lambda v: json.loads(v.decode('utf-8'))\n",
    "    )\n",
    "\n",
    "def create_result_producer():\n",
    "    return KafkaProducer(\n",
    "        bootstrap_servers='localhost:9092',\n",
    "        value_serializer=lambda v: json.dumps(v).encode('utf-8')\n",
    "    )"
   ],
   "id": "28d4c7f15b4404d1",
   "outputs": [],
   "execution_count": 11
  },
  {
   "metadata": {},
   "cell_type": "markdown",
   "source": "# CLASSIFY COMMENTS ",
   "id": "ecab613cb411790b"
  },
  {
   "metadata": {
    "ExecuteTime": {
     "end_time": "2024-07-04T07:14:40.190445Z",
     "start_time": "2024-07-04T07:14:39.927391Z"
    }
   },
   "cell_type": "code",
   "source": [
    "def classify_comment(comment, classifier, sentim_analyzer):\n",
    "    tokens = preprocess_text(comment)\n",
    "    neg_tokens = mark_negation(tokens)\n",
    "    features = sentim_analyzer.apply_features([(neg_tokens, '')])\n",
    "    prediction = classifier.classify(features[0][0])\n",
    "    return prediction\n",
    "\n",
    "consumer = create_consumer()\n",
    "result_producer = create_result_producer()"
   ],
   "id": "66c30a046a32d02d",
   "outputs": [],
   "execution_count": 12
  },
  {
   "metadata": {
    "ExecuteTime": {
     "end_time": "2024-07-04T07:14:40.694714Z",
     "start_time": "2024-07-04T07:14:40.683708Z"
    }
   },
   "cell_type": "code",
   "source": [
    "# Process incoming comments\n",
    "def process_comments():\n",
    "    for message in consumer:\n",
    "        comment = message.value['comment']\n",
    "        prediction = classify_comment(comment, classifier, sentiment_analyzer)\n",
    "        if prediction == 'neg':\n",
    "            result_producer.send('negative_comments', {'comment': comment})\n",
    "        else:\n",
    "            result_producer.send('positive_comments', {'comment': comment})\n",
    "        result_producer.flush()"
   ],
   "id": "d1c129f874eab583",
   "outputs": [],
   "execution_count": 13
  },
  {
   "metadata": {
    "ExecuteTime": {
     "end_time": "2024-07-04T07:14:41.292021Z",
     "start_time": "2024-07-04T07:14:41.276021Z"
    }
   },
   "cell_type": "code",
   "source": [
    "# Send comments to Kafka\n",
    "def send_comments_from_csv(producer, topic, df):\n",
    "    for index, row in df.iterrows():\n",
    "        comment = row['FBPost']\n",
    "        send_comment(producer, topic, comment)"
   ],
   "id": "e998d44d191f99f6",
   "outputs": [],
   "execution_count": 14
  },
  {
   "metadata": {
    "jupyter": {
     "is_executing": true
    },
    "ExecuteTime": {
     "start_time": "2024-07-04T07:14:41.834692Z"
    }
   },
   "cell_type": "code",
   "source": [
    "# Orchestrate the analysis in main function\n",
    "if __name__ == \"__main__\":\n",
    "    producer = create_producer()\n",
    "    send_comments_from_csv(producer, 'comments', df)\n",
    "    process_comments()"
   ],
   "id": "4a64012ad2201500",
   "outputs": [],
   "execution_count": null
  }
 ],
 "metadata": {
  "kernelspec": {
   "display_name": "Python 3",
   "language": "python",
   "name": "python3"
  },
  "language_info": {
   "codemirror_mode": {
    "name": "ipython",
    "version": 2
   },
   "file_extension": ".py",
   "mimetype": "text/x-python",
   "name": "python",
   "nbconvert_exporter": "python",
   "pygments_lexer": "ipython2",
   "version": "2.7.6"
  }
 },
 "nbformat": 4,
 "nbformat_minor": 5
}
